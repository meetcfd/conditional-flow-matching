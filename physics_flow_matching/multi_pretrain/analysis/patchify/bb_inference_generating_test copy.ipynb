{
 "cells": [
  {
   "cell_type": "code",
   "execution_count": 1,
   "metadata": {},
   "outputs": [
    {
     "name": "stdout",
     "output_type": "stream",
     "text": [
      "env: CUDA_VISIBLE_DEVICES=2\n"
     ]
    }
   ],
   "source": [
    "%env CUDA_VISIBLE_DEVICES = 2"
   ]
  },
  {
   "cell_type": "code",
   "execution_count": 2,
   "metadata": {},
   "outputs": [],
   "source": [
    "%load_ext autoreload\n",
    "%autoreload 2\n",
    "import sys; \n",
    "sys.path.extend(['/home/meet/FlowMatchingTests/conditional-flow-matching/'])\n",
    "\n",
    "import matplotlib.pyplot as plt\n",
    "import numpy as np\n",
    "import torch\n",
    "from torchcfm.conditional_flow_matching import *\n",
    "from physics_flow_matching.unet.unet_multi_cond_bb import UNetModelWrapper as UNetModel\n",
    "from torchdiffeq import odeint\n",
    "from einops import rearrange"
   ]
  },
  {
   "cell_type": "code",
   "execution_count": 4,
   "metadata": {},
   "outputs": [],
   "source": [
    "data = [] #, data_0_150[:, :1]\n",
    "for i in [5, 40]:\n",
    "    uvw_data = []\n",
    "    for j in [\"u\"]:   \n",
    "        uvw_data.append(np.load(f'/home/xiantao/case/wall_pressure/bigchannel/data/to_meet/channel_180_{j}_y{i}_all_out.npy'))\n",
    "    data.append(uvw_data)\n",
    "data = [np.concatenate(i, axis=1) for i in data]\n",
    "data = np.stack(data, axis=1)"
   ]
  },
  {
   "cell_type": "code",
   "execution_count": 5,
   "metadata": {},
   "outputs": [],
   "source": [
    "m_, std_ = data.mean(axis=(0,3,4), keepdims=True), data.std(axis=(0,3,4), keepdims=True)"
   ]
  },
  {
   "cell_type": "code",
   "execution_count": 15,
   "metadata": {},
   "outputs": [],
   "source": [
    "X = (data[-1000:] - m_)/std_"
   ]
  },
  {
   "cell_type": "code",
   "execution_count": 16,
   "metadata": {},
   "outputs": [],
   "source": [
    "device = torch.device(\"cuda\" if torch.cuda.is_available() else \"cpu\")"
   ]
  },
  {
   "cell_type": "code",
   "execution_count": 18,
   "metadata": {},
   "outputs": [],
   "source": [
    "ind = 0\n",
    "wall_norm_dict = {0 : [5., 40.]}\n",
    "batch_size=10\n",
    "x_dim, y_dim = X.shape[-2:]\n",
    "patch_size = 32\n",
    "extra_x, extra_y = x_dim%patch_size ,y_dim%patch_size"
   ]
  },
  {
   "cell_type": "code",
   "execution_count": 23,
   "metadata": {},
   "outputs": [],
   "source": [
    "def MSE(pred):\n",
    "    return (((X)[:, 1] - pred)**2).mean()"
   ]
  },
  {
   "cell_type": "code",
   "execution_count": 24,
   "metadata": {},
   "outputs": [
    {
     "name": "stderr",
     "output_type": "stream",
     "text": [
      "/tmp/ipykernel_2384187/4206549926.py:13: FutureWarning: You are using `torch.load` with `weights_only=False` (the current default value), which uses the default pickle module implicitly. It is possible to construct malicious pickle data which will execute arbitrary code during unpickling (See https://github.com/pytorch/pytorch/blob/main/SECURITY.md#untrusted-models for more details). In a future release, the default value for `weights_only` will be flipped to `True`. This limits the functions that could be executed during unpickling. Arbitrary objects will no longer be allowed to be loaded via this mode unless they are explicitly allowlisted by the user via `torch.serialization.add_safe_globals`. We recommend you start setting `weights_only=True` for any use case where you don't have full control of the loaded file. Please open an issue on GitHub for any issues related to this experimental feature.\n",
      "  state = torch.load(f\"/home/meet/FlowMatchingTests/conditional-flow-matching/physics_flow_matching/multi_pretrain/exps/vf_vf/y_corr/32_by_32_x_len/exp_{exp}/saved_state/checkpoint_{iteration}.pth\")\n"
     ]
    },
    {
     "name": "stdout",
     "output_type": "stream",
     "text": [
      "0 : 0.6445002555847168\n",
      "5 : 0.43461939692497253\n",
      "10 : 0.3992762565612793\n",
      "15 : 0.3904779255390167\n",
      "20 : 0.37722352147102356\n",
      "25 : 0.35438674688339233\n",
      "30 : 0.3741532862186432\n",
      "35 : 0.346652090549469\n",
      "40 : 0.3448922634124756\n",
      "45 : 0.3513876795768738\n",
      "50 : 0.35080793499946594\n",
      "55 : 0.34606173634529114\n",
      "60 : 0.35890522599220276\n",
      "65 : 0.3413413465023041\n",
      "70 : 0.34768861532211304\n",
      "75 : 0.34736427664756775\n",
      "80 : 0.3579613268375397\n",
      "85 : 0.3479000926017761\n",
      "90 : 0.3448736071586609\n",
      "95 : 0.35908275842666626\n",
      "99 : 0.3551851511001587\n"
     ]
    }
   ],
   "source": [
    "exp=10\n",
    "for iteration in (list(range(0,99,5)) + [99]):\n",
    "    ot_cfm_model = UNetModel(dim=[1, 32, 32],\n",
    "                            num_channels=128,\n",
    "                            y_channels=2,\n",
    "                            out_channels=1,\n",
    "                            num_res_blocks=2,\n",
    "                            num_head_channels=64,\n",
    "                            attention_resolutions=\"64\", #16, 8, 4\n",
    "                            dropout=0.0,\n",
    "                            use_new_attention_order=True,\n",
    "                            use_scale_shift_norm=True)\n",
    "    state = torch.load(f\"/home/meet/FlowMatchingTests/conditional-flow-matching/physics_flow_matching/multi_pretrain/exps/vf_vf/y_corr/32_by_32_x_len/exp_{exp}/saved_state/checkpoint_{iteration}.pth\")\n",
    "    ot_cfm_model.load_state_dict(state[\"model_state_dict\"])\n",
    "    ot_cfm_model.to(device)\n",
    "    ot_cfm_model.eval();\n",
    "    \n",
    "    samples_list = []\n",
    "    for batch in range(X.shape[0]//batch_size):\n",
    "        with torch.no_grad():\n",
    "            out = ot_cfm_model(torch.tensor((np.array(wall_norm_dict[ind])*np.ones((batch_size, 2))).astype(np.float32), device=device)\n",
    "                            ,torch.tensor(X[batch*batch_size:(batch+1)*batch_size, ind], device=device)).detach().cpu().numpy()\n",
    "        # out *= std_[:, ind+1]\n",
    "        # out += m_[:, ind+1]\n",
    "        samples_list.append(out)\n",
    "        \n",
    "    samples = np.concatenate(samples_list)\n",
    "    print(f\"{iteration} : {MSE(samples)}\")"
   ]
  },
  {
   "cell_type": "code",
   "execution_count": 27,
   "metadata": {},
   "outputs": [
    {
     "data": {
      "image/png": "[encoded data removed]",
      "text/plain": [
       "<Figure size 640x480 with 1 Axes>"
      ]
     },
     "metadata": {},
     "output_type": "display_data"
    }
   ],
   "source": [
    "a = {0 : 0.6445002555847168,\n",
    "5 : 0.43461939692497253,\n",
    "10 : 0.3992762565612793,\n",
    "15 : 0.3904779255390167,\n",
    "20 : 0.37722352147102356,\n",
    "25 : 0.35438674688339233,\n",
    "30 : 0.3741532862186432,\n",
    "35 : 0.346652090549469,\n",
    "40 : 0.3448922634124756,\n",
    "45 : 0.3513876795768738,\n",
    "50 : 0.35080793499946594,\n",
    "55 : 0.34606173634529114,\n",
    "60 : 0.35890522599220276,\n",
    "65 : 0.3413413465023041,\n",
    "70 : 0.34768861532211304,\n",
    "75 : 0.34736427664756775,\n",
    "80 : 0.3579613268375397,\n",
    "85 : 0.3479000926017761,\n",
    "90 : 0.3448736071586609,\n",
    "95 : 0.35908275842666626,\n",
    "99 : 0.3551851511001587}\n",
    "\n",
    "plt.figure()\n",
    "for k, v in a.items():\n",
    "    plt.scatter(k,v)"
   ]
  }
 ],
 "metadata": {
  "kernelspec": {
   "display_name": "torchcfm",
   "language": "python",
   "name": "python3"
  },
  "language_info": {
   "codemirror_mode": {
    "name": "ipython",
    "version": 3
   },
   "file_extension": ".py",
   "mimetype": "text/x-python",
   "name": "python",
   "nbconvert_exporter": "python",
   "pygments_lexer": "ipython3",
   "version": "3.10.13"
  }
 },
 "nbformat": 4,
 "nbformat_minor": 2
}
