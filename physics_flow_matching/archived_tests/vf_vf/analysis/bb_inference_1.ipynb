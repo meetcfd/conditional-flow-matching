{
 "cells": [
  {
   "cell_type": "code",
   "execution_count": 1,
   "metadata": {},
   "outputs": [
    {
     "name": "stdout",
     "output_type": "stream",
     "text": [
      "env: CUDA_VISIBLE_DEVICES=3\n"
     ]
    }
   ],
   "source": [
    "%env CUDA_VISIBLE_DEVICES = 3"
   ]
  },
  {
   "cell_type": "code",
   "execution_count": 10,
   "metadata": {},
   "outputs": [
    {
     "name": "stdout",
     "output_type": "stream",
     "text": [
      "The autoreload extension is already loaded. To reload it, use:\n",
      "  %reload_ext autoreload\n"
     ]
    }
   ],
   "source": [
    "%load_ext autoreload\n",
    "%autoreload 2\n",
    "import sys; \n",
    "sys.path.extend(['/home/meet/FlowMatchingTests/conditional-flow-matching/'])\n",
    "\n",
    "import matplotlib.pyplot as plt\n",
    "import numpy as np\n",
    "import torch\n",
    "from torchcfm.conditional_flow_matching import *\n",
    "from physics_flow_matching.unet import UNetModel\n",
    "from torchdiffeq import odeint\n",
    "from einops import rearrange"
   ]
  },
  {
   "cell_type": "code",
   "execution_count": null,
   "metadata": {},
   "outputs": [],
   "source": [
    "for v in [\"u, v, w\"]:\n",
    "    "
   ]
  },
  {
   "cell_type": "code",
   "execution_count": 3,
   "metadata": {},
   "outputs": [],
   "source": [
    "a, b, c = np.load(\"/home/xiantao/case/wall_pressure/bigchannel/data/to_meet/channel_180_u_y70_41-220_out.npy\"), np.load(\"/home/xiantao/case/wall_pressure/bigchannel/data/to_meet/channel_180_v_y70_41-220_out.npy\"), np.load(\"/home/xiantao/case/wall_pressure/bigchannel/data/to_meet/channel_180_w_y70_41-220_out.npy\")\n",
    "label = np.concatenate((a,b,c), axis=1)\n",
    "m, std = label.mean(axis=(0,2,3), keepdims=True), label.std(axis=(0,2,3), keepdims=True)"
   ]
  },
  {
   "cell_type": "code",
   "execution_count": 4,
   "metadata": {},
   "outputs": [],
   "source": [
    "a, b, c = np.load(\"/home/xiantao/case/wall_pressure/bigchannel/data/to_meet/channel_180_u_y10-40-70_221-259_out.npy\")[:, 1:], np.load(\"/home/xiantao/case/wall_pressure/bigchannel/data/to_meet/channel_180_v_y10-40-70_221-259_out.npy\")[:, 1:], np.load(\"/home/xiantao/case/wall_pressure/bigchannel/data/to_meet/channel_180_w_y10-40-70_221-259_out.npy\")[:, 1:]\n",
    "test_label = np.concatenate((a,b,c), axis=1)"
   ]
  },
  {
   "cell_type": "code",
   "execution_count": 5,
   "metadata": {},
   "outputs": [],
   "source": [
    "a, b, c = np.load(\"/home/xiantao/case/wall_pressure/bigchannel/data/to_meet/channel_180_u_y40_41-220_out.npy\"), np.load(\"/home/xiantao/case/wall_pressure/bigchannel/data/to_meet/channel_180_v_y40_41-220_out.npy\"), np.load(\"/home/xiantao/case/wall_pressure/bigchannel/data/to_meet/channel_180_w_y40_41-220_out.npy\")\n",
    "data = np.concatenate((a,b,c), axis=1)\n",
    "m_, std_ = data.mean(axis=(0,2,3), keepdims=True), data.std(axis=(0,2,3), keepdims=True)"
   ]
  },
  {
   "cell_type": "code",
   "execution_count": 6,
   "metadata": {},
   "outputs": [],
   "source": [
    "a, b, c = np.load(\"/home/xiantao/case/wall_pressure/bigchannel/data/to_meet/channel_180_u_y10-40-70_221-259_out.npy\")[:, :1], np.load(\"/home/xiantao/case/wall_pressure/bigchannel/data/to_meet/channel_180_v_y10-40-70_221-259_out.npy\")[:, :1], np.load(\"/home/xiantao/case/wall_pressure/bigchannel/data/to_meet/channel_180_w_y10-40-70_221-259_out.npy\")[:, :1]\n",
    "test_data = np.concatenate((a,b,c), axis=1)\n",
    "X = (test_data - m_)/std_"
   ]
  },
  {
   "cell_type": "code",
   "execution_count": 7,
   "metadata": {},
   "outputs": [],
   "source": [
    "device = torch.device(\"cuda\" if torch.cuda.is_available() else \"cpu\")"
   ]
  },
  {
   "cell_type": "code",
   "execution_count": 18,
   "metadata": {},
   "outputs": [
    {
     "name": "stderr",
     "output_type": "stream",
     "text": [
      "/tmp/ipykernel_2550996/1107988862.py:12: FutureWarning: You are using `torch.load` with `weights_only=False` (the current default value), which uses the default pickle module implicitly. It is possible to construct malicious pickle data which will execute arbitrary code during unpickling (See https://github.com/pytorch/pytorch/blob/main/SECURITY.md#untrusted-models for more details). In a future release, the default value for `weights_only` will be flipped to `True`. This limits the functions that could be executed during unpickling. Arbitrary objects will no longer be allowed to be loaded via this mode unless they are explicitly allowlisted by the user via `torch.serialization.add_safe_globals`. We recommend you start setting `weights_only=True` for any use case where you don't have full control of the loaded file. Please open an issue on GitHub for any issues related to this experimental feature.\n",
      "  state = torch.load(f\"/home/meet/FlowMatchingTests/conditional-flow-matching/physics_flow_matching/vf_vf/exps/exp_{exp}/saved_state/checkpoint_{iteration}.pth\")\n"
     ]
    }
   ],
   "source": [
    "exp=1\n",
    "iteration = 15\n",
    "ot_cfm_model = UNetModel(dim=[3, 160, 200],\n",
    "                         channel_mult=[1,2,4,4],\n",
    "                         num_channels=128,\n",
    "                         num_res_blocks=2,\n",
    "                         num_head_channels=64,\n",
    "                         attention_resolutions=\"40, 20, 10\",\n",
    "                         dropout=0.2,\n",
    "                         use_new_attention_order=True,\n",
    "                         use_scale_shift_norm=True)\n",
    "state = torch.load(f\"/home/meet/FlowMatchingTests/conditional-flow-matching/physics_flow_matching/vf_vf/exps/exp_{exp}/saved_state/checkpoint_{iteration}.pth\")\n",
    "ot_cfm_model.load_state_dict(state[\"model_state_dict\"])\n",
    "ot_cfm_model.to(device)\n",
    "ot_cfm_model.eval();"
   ]
  },
  {
   "cell_type": "code",
   "execution_count": 19,
   "metadata": {},
   "outputs": [],
   "source": [
    "batch_size=20"
   ]
  },
  {
   "cell_type": "code",
   "execution_count": 20,
   "metadata": {},
   "outputs": [
    {
     "name": "stderr",
     "output_type": "stream",
     "text": [
      "/tmp/ipykernel_2550996/3540767277.py:4: UserWarning: To copy construct from a tensor, it is recommended to use sourceTensor.clone().detach() or sourceTensor.clone().detach().requires_grad_(True), rather than torch.tensor(sourceTensor).\n",
      "  out = ot_cfm_model(torch.tensor(torch.tensor(X[batch*batch_size:(batch+1)*batch_size], device=device))).detach().cpu().numpy()\n"
     ]
    }
   ],
   "source": [
    "samples_list = []\n",
    "for batch in range(X.shape[0]//batch_size):\n",
    "    with torch.no_grad():\n",
    "        out = ot_cfm_model(torch.tensor(torch.tensor(X[batch*batch_size:(batch+1)*batch_size], device=device))).detach().cpu().numpy()\n",
    "    out *= std\n",
    "    out += m\n",
    "    samples_list.append(out)"
   ]
  },
  {
   "cell_type": "code",
   "execution_count": 21,
   "metadata": {},
   "outputs": [],
   "source": [
    "samples = np.concatenate(samples_list)"
   ]
  },
  {
   "cell_type": "code",
   "execution_count": 22,
   "metadata": {},
   "outputs": [],
   "source": [
    "np.save(f\"/home/meet/FlowMatchingTests/conditional-flow-matching/physics_flow_matching/vf_vf/exps/exp_{exp}/samples_{iteration}epch\", samples[:, 0])"
   ]
  },
  {
   "cell_type": "code",
   "execution_count": 171,
   "metadata": {},
   "outputs": [],
   "source": [
    "# for i in range(0,100,5):\n",
    "#     plt.figure()\n",
    "#     plt.imshow(out[i, 0, 0])"
   ]
  },
  {
   "cell_type": "code",
   "execution_count": 172,
   "metadata": {},
   "outputs": [],
   "source": [
    "# np.save(f\"/home/meet/FlowMatchingTests/conditional-flow-matching/physics_flow_matching/wp_ws/exps/FM_exps/exp_{exp}/samples_{iteration}iter_7000\", samples[:, 0])"
   ]
  }
 ],
 "metadata": {
  "kernelspec": {
   "display_name": "torchcfm",
   "language": "python",
   "name": "python3"
  },
  "language_info": {
   "codemirror_mode": {
    "name": "ipython",
    "version": 3
   },
   "file_extension": ".py",
   "mimetype": "text/x-python",
   "name": "python",
   "nbconvert_exporter": "python",
   "pygments_lexer": "ipython3",
   "version": "3.10.14"
  }
 },
 "nbformat": 4,
 "nbformat_minor": 2
}
