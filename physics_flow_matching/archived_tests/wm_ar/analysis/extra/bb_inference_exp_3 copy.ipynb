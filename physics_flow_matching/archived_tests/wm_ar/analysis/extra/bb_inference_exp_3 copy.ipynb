{
 "cells": [
  {
   "cell_type": "code",
   "execution_count": 20,
   "metadata": {},
   "outputs": [
    {
     "name": "stdout",
     "output_type": "stream",
     "text": [
      "env: CUDA_VISIBLE_DEVICES=1\n"
     ]
    }
   ],
   "source": [
    "%env CUDA_VISIBLE_DEVICES = 1"
   ]
  },
  {
   "cell_type": "code",
   "execution_count": 21,
   "metadata": {},
   "outputs": [
    {
     "name": "stdout",
     "output_type": "stream",
     "text": [
      "The autoreload extension is already loaded. To reload it, use:\n",
      "  %reload_ext autoreload\n"
     ]
    }
   ],
   "source": [
    "%load_ext autoreload\n",
    "%autoreload 2\n",
    "import sys; \n",
    "sys.path.extend(['/home/meet/FlowMatchingTests/conditional-flow-matching/'])\n",
    "\n",
    "import matplotlib.pyplot as plt\n",
    "import numpy as np\n",
    "import torch\n",
    "from torchcfm.conditional_flow_matching import *\n",
    "from physics_flow_matching.unet import UNetModel\n",
    "from torchdiffeq import odeint\n",
    "from einops import rearrange"
   ]
  },
  {
   "cell_type": "code",
   "execution_count": 22,
   "metadata": {},
   "outputs": [],
   "source": [
    "# data_0_150 = np.load('/home/xiantao/case/wall_pressure/bigchannel/data/to_meet/channel_180_u_y5-150_41-220_out.npy')"
   ]
  },
  {
   "cell_type": "code",
   "execution_count": 23,
   "metadata": {},
   "outputs": [],
   "source": [
    "data = [np.load('/home/xiantao/case/wall_pressure/bigchannel/data/to_meet/channel_180_wall_dudy_all_out.npy')] #, data_0_150[:, :1]\n",
    "for i in [5, 10, 40, 60, 70, 80, 100, 150]:\n",
    "    data.append(np.load(f'/home/xiantao/case/wall_pressure/bigchannel/data/to_meet/channel_180_u_y{i}_all_out.npy'))\n",
    "data = np.concatenate(data, axis=1)"
   ]
  },
  {
   "cell_type": "code",
   "execution_count": 24,
   "metadata": {},
   "outputs": [],
   "source": [
    "m_, std_ = data[:1200].mean(axis=(0,2,3), keepdims=True), data[:1200].std(axis=(0,2,3), keepdims=True)"
   ]
  },
  {
   "cell_type": "code",
   "execution_count": 25,
   "metadata": {},
   "outputs": [],
   "source": [
    "# m_, std_  = m_[:, [0, 1, 4, 6, 7, 8]], std_[:, [0, 1, 4, 6, 7, 8]]"
   ]
  },
  {
   "cell_type": "code",
   "execution_count": 26,
   "metadata": {},
   "outputs": [],
   "source": [
    "# test_data_0_150 = np.load('/home/xiantao/case/wall_pressure/bigchannel/data/to_meet/channel_180_u_y5-150_221-259_out.npy')"
   ]
  },
  {
   "cell_type": "code",
   "execution_count": 27,
   "metadata": {},
   "outputs": [],
   "source": [
    "# test_data = [np.load('/home/xiantao/case/wall_pressure/bigchannel/data/to_meet/channel_180_wall_dudy_221-259_out.npy')[:, None], test_data_0_150[:, :1]]\n",
    "# for i in [\"60-80-100\"]:\n",
    "#     test_data.append(np.load(f'/home/xiantao/case/wall_pressure/bigchannel/data/to_meet/channel_180_u_y{i}_221-259_out.npy'))\n",
    "# test_data.append(test_data_0_150[:, 1:])\n",
    "# test_data = np.concatenate(test_data, axis=1)"
   ]
  },
  {
   "cell_type": "code",
   "execution_count": 28,
   "metadata": {},
   "outputs": [],
   "source": [
    "X = (data[36000:39900] - m_)/std_"
   ]
  },
  {
   "cell_type": "code",
   "execution_count": 29,
   "metadata": {},
   "outputs": [],
   "source": [
    "device = torch.device(\"cuda\" if torch.cuda.is_available() else \"cpu\")"
   ]
  },
  {
   "cell_type": "code",
   "execution_count": 30,
   "metadata": {},
   "outputs": [
    {
     "name": "stderr",
     "output_type": "stream",
     "text": [
      "/tmp/ipykernel_3389016/3171781994.py:12: FutureWarning: You are using `torch.load` with `weights_only=False` (the current default value), which uses the default pickle module implicitly. It is possible to construct malicious pickle data which will execute arbitrary code during unpickling (See https://github.com/pytorch/pytorch/blob/main/SECURITY.md#untrusted-models for more details). In a future release, the default value for `weights_only` will be flipped to `True`. This limits the functions that could be executed during unpickling. Arbitrary objects will no longer be allowed to be loaded via this mode unless they are explicitly allowlisted by the user via `torch.serialization.add_safe_globals`. We recommend you start setting `weights_only=True` for any use case where you don't have full control of the loaded file. Please open an issue on GitHub for any issues related to this experimental feature.\n",
      "  state = torch.load(f\"/home/meet/FlowMatchingTests/conditional-flow-matching/physics_flow_matching/wm_ar/exps/exp_{exp}/saved_state/checkpoint_{iteration}.pth\")\n"
     ]
    }
   ],
   "source": [
    "exp=4\n",
    "iteration = 19\n",
    "ot_cfm_model = UNetModel(dim=[1, 160, 200],\n",
    "                         num_channels=128,\n",
    "                         out_channels=1,\n",
    "                         num_res_blocks=2,\n",
    "                         num_head_channels=64,\n",
    "                         attention_resolutions=\"40, 20\",\n",
    "                         dropout=0.0,\n",
    "                         use_new_attention_order=True,\n",
    "                         use_scale_shift_norm=True)\n",
    "state = torch.load(f\"/home/meet/FlowMatchingTests/conditional-flow-matching/physics_flow_matching/wm_ar/exps/exp_{exp}/saved_state/checkpoint_{iteration}.pth\")\n",
    "ot_cfm_model.load_state_dict(state[\"model_state_dict\"])\n",
    "ot_cfm_model.to(device)\n",
    "ot_cfm_model.eval();"
   ]
  },
  {
   "cell_type": "code",
   "execution_count": 31,
   "metadata": {},
   "outputs": [],
   "source": [
    "batch_size=10\n",
    "ind = 3"
   ]
  },
  {
   "cell_type": "code",
   "execution_count": 32,
   "metadata": {},
   "outputs": [],
   "source": [
    "samples_list = []\n",
    "for batch in range(X.shape[0]//batch_size):\n",
    "    each_samples_list =[]\n",
    "    with torch.no_grad():\n",
    "        for i in range(8-ind):\n",
    "            if i == 0:\n",
    "                out = ot_cfm_model(torch.tensor(X[batch*batch_size:(batch+1)*batch_size, ind:ind+1], device=device)).detach().cpu().numpy()\n",
    "            else:\n",
    "                out = ot_cfm_model(torch.tensor(out, device=device)).detach().cpu().numpy()\n",
    "            sout = out*std_[:, ind+i+1:ind+i+2]\n",
    "            sout += m_[:, ind+i+1:ind+i+2]\n",
    "            each_samples_list.append(sout)\n",
    "    samples_list.append(each_samples_list)"
   ]
  },
  {
   "cell_type": "code",
   "execution_count": 33,
   "metadata": {},
   "outputs": [],
   "source": [
    "# samples_list = []\n",
    "# for batch in range(X.shape[0]//batch_size):\n",
    "#     with torch.no_grad():\n",
    "#         out = ot_cfm_model(torch.tensor(X[batch*batch_size:(batch+1)*batch_size, ind:ind+1], device=device)).detach().cpu().numpy()\n",
    "#     out *= std_[:, ind+1:ind+2]\n",
    "#     out += m_[:, ind+1:ind+2]\n",
    "#     samples_list.append(out)"
   ]
  },
  {
   "cell_type": "code",
   "execution_count": 34,
   "metadata": {},
   "outputs": [],
   "source": [
    "sample_list2 = [np.concatenate(sample, axis=1) for sample in samples_list]\n",
    "samples = np.concatenate(sample_list2)"
   ]
  },
  {
   "cell_type": "code",
   "execution_count": 35,
   "metadata": {},
   "outputs": [],
   "source": [
    "# np.save(f\"/home/meet/FlowMatchingTests/conditional-flow-matching/physics_flow_matching/vf_vf/exps/exp_{exp}/samples_{iteration}epch\", samples[:, 0])"
   ]
  },
  {
   "cell_type": "code",
   "execution_count": 36,
   "metadata": {},
   "outputs": [],
   "source": [
    "# for i in range(8):\n",
    "#     fig, axes = plt.subplots(nrows=1, ncols=4, dpi=200)\n",
    "#     if i == 0:\n",
    "#         ax = axes[0].imshow(data[36000,0])\n",
    "#         plt.colorbar(ax,ax=axes[0])\n",
    "#     else:\n",
    "#         ax = axes[0].imshow(samples[0,i-1])\n",
    "#         plt.colorbar(ax,ax=axes[0])\n",
    "#     ax = axes[1].imshow(samples[0,i])\n",
    "#     plt.colorbar(ax,ax=axes[1])\n",
    "#     ax= axes[2].imshow(data[36000, i+1])\n",
    "#     plt.colorbar(ax,ax=axes[2])\n",
    "#     ax = axes[3].imshow(np.abs(samples[0,i] - data[36000, i+1]))\n",
    "#     plt.colorbar(ax,ax=axes[3])"
   ]
  },
  {
   "cell_type": "code",
   "execution_count": 37,
   "metadata": {},
   "outputs": [],
   "source": [
    "# for i in range(1):\n",
    "#     fig, axes = plt.subplots(nrows=1, ncols=4, dpi=500, figsize=(20,10))\n",
    "#     ax = axes[0].imshow(X[7800+i,ind])\n",
    "#     plt.colorbar(ax,ax=axes[0])\n",
    "#     ax = axes[1].imshow(samples[i,0])\n",
    "#     plt.colorbar(ax,ax=axes[1])\n",
    "#     ax= axes[2].imshow(data[7800+i, ind+1])\n",
    "#     plt.colorbar(ax,ax=axes[2])\n",
    "#     ax = axes[3].imshow(np.abs(samples[i,0] - data[7800+i, ind+1]))\n",
    "#     plt.colorbar(ax,ax=axes[3])"
   ]
  },
  {
   "cell_type": "code",
   "execution_count": 38,
   "metadata": {},
   "outputs": [],
   "source": [
    "np.save(f\"/home/meet/FlowMatchingTests/conditional-flow-matching/physics_flow_matching/wm_ar/exps/exp_{exp}/samples_{iteration}iter_7000_start_40\", samples)"
   ]
  }
 ],
 "metadata": {
  "kernelspec": {
   "display_name": "torchcfm",
   "language": "python",
   "name": "python3"
  },
  "language_info": {
   "codemirror_mode": {
    "name": "ipython",
    "version": 3
   },
   "file_extension": ".py",
   "mimetype": "text/x-python",
   "name": "python",
   "nbconvert_exporter": "python",
   "pygments_lexer": "ipython3",
   "version": "3.10.14"
  }
 },
 "nbformat": 4,
 "nbformat_minor": 2
}
