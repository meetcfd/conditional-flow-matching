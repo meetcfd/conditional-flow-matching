{
 "cells": [
  {
   "cell_type": "code",
   "execution_count": 21,
   "metadata": {},
   "outputs": [],
   "source": [
    "import numpy as np\n",
    "import matplotlib.pyplot as plt\n",
    "from einops import rearrange"
   ]
  },
  {
   "cell_type": "code",
   "execution_count": 35,
   "metadata": {},
   "outputs": [],
   "source": [
    "a = np.load(\"/home/meet/FlowMatchingTests/conditional-flow-matching/neural_operator/data/ks_high_res.npy\")\n",
    "b = rearrange(a, \"b (t c) l -> (b t) c l\", t=2)\n",
    "np.save(\"/home/meet/FlowMatchingTests/conditional-flow-matching/physics_flow_matching/wall_pres/data/ks_data\",b)"
   ]
  }
 ],
 "metadata": {
  "kernelspec": {
   "display_name": "torchcfm",
   "language": "python",
   "name": "python3"
  },
  "language_info": {
   "codemirror_mode": {
    "name": "ipython",
    "version": 3
   },
   "file_extension": ".py",
   "mimetype": "text/x-python",
   "name": "python",
   "nbconvert_exporter": "python",
   "pygments_lexer": "ipython3",
   "version": "3.10.14"
  }
 },
 "nbformat": 4,
 "nbformat_minor": 2
}
