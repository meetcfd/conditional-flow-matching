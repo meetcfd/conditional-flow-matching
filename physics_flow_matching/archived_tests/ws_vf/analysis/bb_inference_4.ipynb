{
 "cells": [
  {
   "cell_type": "code",
   "execution_count": null,
   "metadata": {},
   "outputs": [],
   "source": [
    "%env CUDA_VISIBLE_DEVICES = 1"
   ]
  },
  {
   "cell_type": "code",
   "execution_count": 2,
   "metadata": {},
   "outputs": [],
   "source": [
    "%load_ext autoreload\n",
    "%autoreload 2\n",
    "import sys; \n",
    "sys.path.extend(['/home/meet/FlowMatchingTests/conditional-flow-matching/'])\n",
    "\n",
    "import matplotlib.pyplot as plt\n",
    "import numpy as np\n",
    "import torch\n",
    "from torchcfm.conditional_flow_matching import *\n",
    "from physics_flow_matching.unet import UNetModel\n",
    "from torchdiffeq import odeint\n",
    "from einops import rearrange"
   ]
  },
  {
   "cell_type": "code",
   "execution_count": null,
   "metadata": {},
   "outputs": [],
   "source": [
    "label = np.load(\"/home/xiantao/case/wall_pressure/bigchannel/data/to_meet/channel_180_u_y70_41-220_out.npy\")\n",
    "# test_label = np.load(\"/home/xiantao/case/wall_pressure/bigchannel/data/to_meet/channel_180_u_y70_221-259_out.npy\")\n",
    "m, std = label.mean(axis=(0,2,3), keepdims=True), label.std(axis=(0,2,3), keepdims=True)\n",
    "# Y = (test_label - m)/std\n",
    "# test_label = rearrange(test_label, \"b l c w -> (b c) l w\")\n",
    "# test_label = (test_label[:, 160:])[:, None]\n",
    "# Y = (label - label.mean())/label.std()"
   ]
  },
  {
   "cell_type": "code",
   "execution_count": 4,
   "metadata": {},
   "outputs": [],
   "source": [
    "l_d = (label - m)/std"
   ]
  },
  {
   "cell_type": "code",
   "execution_count": 5,
   "metadata": {},
   "outputs": [],
   "source": [
    "data = np.load(\"/home/xiantao/case/wall_pressure/bigchannel/data/to_meet/channel_180_wall_dudy_41-220_out.npy\")\n",
    "m_, std_ = data.mean(), data.std()\n",
    "\n",
    "test_data = np.load(\"/home/xiantao/case/wall_pressure/bigchannel/data/to_meet/channel_180_wall_dudy_221-259_out.npy\")\n",
    "# test_data = rearrange(test_data, \"b l c w -> (b c) l w\")\n",
    "# test_data = (test_data[:, 160:])[:, None]\n",
    "X = (test_data - m_)/std_"
   ]
  },
  {
   "cell_type": "code",
   "execution_count": 6,
   "metadata": {},
   "outputs": [],
   "source": [
    "X_d = (data - m_)/std_"
   ]
  },
  {
   "cell_type": "code",
   "execution_count": 7,
   "metadata": {},
   "outputs": [],
   "source": [
    "device = torch.device(\"cuda\" if torch.cuda.is_available() else \"cpu\")"
   ]
  },
  {
   "cell_type": "code",
   "execution_count": null,
   "metadata": {},
   "outputs": [],
   "source": [
    "exp=4\n",
    "iteration = 5\n",
    "ot_cfm_model = UNetModel(dim=[1, 160, 200],\n",
    "                        out_channels=1,\n",
    "                        num_channels=128,\n",
    "                        channel_mult = None,\n",
    "                        num_res_blocks=2,\n",
    "                        num_head_channels=64,\n",
    "                        attention_resolutions=\"40, 20\",\n",
    "                        dropout=0.2,\n",
    "                        use_new_attention_order=True,\n",
    "                        use_scale_shift_norm=True)\n",
    "state = torch.load(f\"/home/meet/FlowMatchingTests/conditional-flow-matching/physics_flow_matching/ws_vf/exps/exp_{exp}/saved_state/checkpoint_{iteration}.pth\")\n",
    "ot_cfm_model.load_state_dict(state[\"model_state_dict\"])\n",
    "ot_cfm_model.to(device)\n",
    "ot_cfm_model.eval();"
   ]
  },
  {
   "cell_type": "code",
   "execution_count": 9,
   "metadata": {},
   "outputs": [],
   "source": [
    "batch_size=10"
   ]
  },
  {
   "cell_type": "code",
   "execution_count": null,
   "metadata": {},
   "outputs": [],
   "source": [
    "wall_norm_dict = {0:0}\n",
    "key = 1"
   ]
  },
  {
   "cell_type": "code",
   "execution_count": null,
   "metadata": {},
   "outputs": [],
   "source": [
    "samples_list = []\n",
    "for batch in range(X.shape[0]//batch_size):\n",
    "    with torch.no_grad():\n",
    "        out = ot_cfm_model(torch.tensor(wall_norm_dict[key]*np.ones(batch_size).astype(np.float32), device=device)[:, None], torch.tensor(X[batch*batch_size:(batch+1)*batch_size][:, None], device=device)).detach().cpu().numpy()\n",
    "    out *= std[:, key]\n",
    "    out += m[:, key]\n",
    "    samples_list.append(out)"
   ]
  },
  {
   "cell_type": "code",
   "execution_count": 26,
   "metadata": {},
   "outputs": [],
   "source": [
    "samples = np.concatenate(samples_list)"
   ]
  },
  {
   "cell_type": "code",
   "execution_count": 27,
   "metadata": {},
   "outputs": [],
   "source": [
    "np.save(f\"/home/meet/FlowMatchingTests/conditional-flow-matching/physics_flow_matching/ws_vf/exps/exp_{exp}/y_{wall_norm_dict[key]}_samples_{iteration}epch\", samples[:, 0])"
   ]
  },
  {
   "cell_type": "code",
   "execution_count": null,
   "metadata": {},
   "outputs": [],
   "source": [
    "# for i in range(5):\n",
    "#     fig, axes = plt.subplots(nrows=1, ncols=4, dpi=200)\n",
    "#     ax = axes[0].imshow(X_d[200+i,0])\n",
    "#     plt.colorbar(ax,ax=axes[0])\n",
    "#     ax = axes[1].imshow(samples[i,0])\n",
    "#     plt.colorbar(ax,ax=axes[1])\n",
    "#     ax= axes[2].imshow(label[200+i, 1])\n",
    "#     plt.colorbar(ax,ax=axes[2])\n",
    "#     ax = axes[3].imshow(np.abs(samples[i,0] - label[200+i, 1]))\n",
    "#     plt.colorbar(ax,ax=axes[3])"
   ]
  },
  {
   "cell_type": "code",
   "execution_count": null,
   "metadata": {},
   "outputs": [],
   "source": [
    "# plt.imshow(X_d[0,0] - X_d[10,0])\n",
    "# plt.colorbar()"
   ]
  }
 ],
 "metadata": {
  "kernelspec": {
   "display_name": "torchcfm",
   "language": "python",
   "name": "python3"
  },
  "language_info": {
   "codemirror_mode": {
    "name": "ipython",
    "version": 3
   },
   "file_extension": ".py",
   "mimetype": "text/x-python",
   "name": "python",
   "nbconvert_exporter": "python",
   "pygments_lexer": "ipython3",
   "version": "3.10.14"
  }
 },
 "nbformat": 4,
 "nbformat_minor": 2
}
