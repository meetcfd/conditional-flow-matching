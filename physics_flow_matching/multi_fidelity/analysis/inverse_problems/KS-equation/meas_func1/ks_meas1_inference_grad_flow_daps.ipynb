{
 "cells": [
  {
   "cell_type": "code",
   "execution_count": 1,
   "metadata": {},
   "outputs": [
    {
     "name": "stdout",
     "output_type": "stream",
     "text": [
      "env: CUDA_VISIBLE_DEVICES=1\n"
     ]
    }
   ],
   "source": [
    "%env CUDA_VISIBLE_DEVICES = 1"
   ]
  },
  {
   "cell_type": "code",
   "execution_count": 2,
   "metadata": {},
   "outputs": [],
   "source": [
    "%load_ext autoreload\n",
    "%autoreload 2\n",
    "import os\n",
    "import sys; \n",
    "sys.path.extend(['/home/meet/FlowMatchingTests/conditional-flow-matching/'])\n",
    "sys.path.extend(['..'])\n",
    "\n",
    "import matplotlib.pyplot as plt\n",
    "import numpy as np\n",
    "import torch\n",
    "\n",
    "from tqdm import tqdm\n",
    "from torchcfm.conditional_flow_matching import *\n",
    "from physics_flow_matching.unet.unet import GuidedUNetModelWrapper as UNetModel\n",
    "from physics_flow_matching.inference_scripts.utils import grad_cost_func_parallel, cost_func_parallel, sample_noise\n",
    "from physics_flow_matching.inference_scripts.cond import infer_parallel\n",
    "from physics_flow_matching.inference_scripts.uncond import infer\n",
    "from resdiual import calculate_kuramoto_sivashinsky_residual, two_point_corr\n",
    "from physics_flow_matching.inference_scripts.cond import d_flow, d_flow_ssag, infer_grad, infer_gradfree, flow_daps, infer_grad_dpmc\n",
    "from physics_flow_matching.inference_scripts.utils import cost_func, cost_func_exp, ssag_get_norm_params, ssag_sample, sample_noise, grad_cost_func\n",
    "from physics_flow_matching.multi_fidelity.synthetic.dists.base import get_distribution"
   ]
  },
  {
   "cell_type": "code",
   "execution_count": 3,
   "metadata": {},
   "outputs": [],
   "source": [
    "fid = \"high\" \n",
    "data = np.load(f\"/home/meet/FlowMatchingTests/conditional-flow-matching/physics_flow_matching/multi_fidelity/synthetic/ks/{fid}_fid.npy\")\n",
    "test_data = np.load(f\"/home/meet/FlowMatchingTests/conditional-flow-matching/physics_flow_matching/multi_fidelity/synthetic/ks/{fid}_fid_test.npy\")\n",
    "m, std = data.mean(axis=(0,2,3), keepdims=True), data.std(axis=(0,2,3), keepdims=True)\n",
    "X = (test_data - m)/std"
   ]
  },
  {
   "cell_type": "code",
   "execution_count": 4,
   "metadata": {},
   "outputs": [],
   "source": [
    "device = torch.device(\"cuda\" if torch.cuda.is_available() else \"cpu\")"
   ]
  },
  {
   "cell_type": "code",
   "execution_count": 5,
   "metadata": {},
   "outputs": [],
   "source": [
    "def meas_func(x, **kwargs):\n",
    "    return x[..., :128, :] # temporal inpainting\n",
    "    # return x[..., :128] # spatial inpainting"
   ]
  },
  {
   "cell_type": "code",
   "execution_count": 6,
   "metadata": {},
   "outputs": [],
   "source": [
    "meas = torch.from_numpy(meas_func(X)).to(device)"
   ]
  },
  {
   "cell_type": "code",
   "execution_count": 7,
   "metadata": {},
   "outputs": [
    {
     "name": "stdout",
     "output_type": "stream",
     "text": [
      "Loading model for experiment lf_hf, iteration 9\n"
     ]
    }
   ],
   "source": [
    "exp = \"lf_hf\"\n",
    "iteration = 9\n",
    "print(f\"Loading model for experiment {exp}, iteration {iteration}\")\n",
    "ot_cfm_model = UNetModel(dim=[1, 256, 256],\n",
    "                        channel_mult=None,\n",
    "                        num_channels=128,\n",
    "                        num_res_blocks=2,\n",
    "                        num_head_channels=64,\n",
    "                        attention_resolutions=\"40\",\n",
    "                        dropout=0.0,\n",
    "                        use_new_attention_order=True,\n",
    "                        use_scale_shift_norm=True,\n",
    "                        guide_func=None\n",
    "                        )\n",
    "state = torch.load(f\"/home/meet/FlowMatchingTests/conditional-flow-matching/physics_flow_matching/multi_fidelity/exps/{exp}/exp_gaussian_ot/saved_state/checkpoint_{iteration}.pth\")\n",
    "ot_cfm_model.load_state_dict(state[\"model_state_dict\"])\n",
    "ot_cfm_model.to(device)\n",
    "ot_cfm_model.eval();"
   ]
  },
  {
   "cell_type": "markdown",
   "metadata": {},
   "source": [
    "### Grad"
   ]
  },
  {
   "cell_type": "code",
   "execution_count": 8,
   "metadata": {},
   "outputs": [],
   "source": [
    "total_samples = 1000\n",
    "samples_per_batch = 1\n",
    "sample_shape = (1, 256, 256)\n",
    "# initial_points  =  get_distribution('gaussian').sample(total_samples, *sample_shape).to(device)\n",
    "initial_points = torch.randn(total_samples, *sample_shape).to(device)\n",
    "ground_truth_for_cond = torch.from_numpy(X[:total_samples]).float().to(device)\n",
    "# measurement_points = meas_func(ground_truth_for_cond)\n",
    "# measurement_points += 0.10 * torch.randn_like(measurement_points)"
   ]
  },
  {
   "cell_type": "code",
   "execution_count": 9,
   "metadata": {},
   "outputs": [],
   "source": [
    "cond = meas[1:2].repeat(total_samples,1,1,1).to(device)\n",
    "# cond += 0.10 * torch.randn_like(cond)"
   ]
  },
  {
   "cell_type": "code",
   "execution_count": null,
   "metadata": {},
   "outputs": [],
   "source": [
    "samples_cond_grad = infer_parallel(cfm_model=ot_cfm_model,\n",
    "                    swag=False, samples_per_batch=samples_per_batch, total_samples=total_samples,\n",
    "                    dims_of_img=(1,256,256), num_of_steps=300, grad_cost_func=grad_cost_func_parallel, meas_func= meas_func,\n",
    "                    conditioning=cond, conditioning_scale=1., device=device, refine=1, sample_noise=sample_noise,\n",
    "                    use_heavy_noise=False, rf_start=False,\n",
    "                    solver='euler', is_grad_free=False, nu=None)"
   ]
  },
  {
   "cell_type": "code",
   "execution_count": 20,
   "metadata": {},
   "outputs": [
    {
     "name": "stderr",
     "output_type": "stream",
     "text": [
      "100%|██████████| 199/199 [00:37<00:00,  5.32it/s, distance=0.917]\n",
      "100%|██████████| 199/199 [00:37<00:00,  5.32it/s, distance=0.976]\n",
      "100%|██████████| 199/199 [00:36<00:00,  5.50it/s, distance=0.941]\n",
      "100%|██████████| 199/199 [00:26<00:00,  7.47it/s, distance=0.919]\n",
      "100%|██████████| 199/199 [00:26<00:00,  7.60it/s, distance=0.938]\n",
      "100%|██████████| 199/199 [00:26<00:00,  7.63it/s, distance=0.956]\n",
      "100%|██████████| 199/199 [00:26<00:00,  7.62it/s, distance=0.946]\n",
      "100%|██████████| 199/199 [00:26<00:00,  7.64it/s, distance=0.961]\n",
      "100%|██████████| 199/199 [00:25<00:00,  7.67it/s, distance=0.927]\n",
      "100%|██████████| 199/199 [00:25<00:00,  7.68it/s, distance=0.912]\n",
      "100%|██████████| 199/199 [00:25<00:00,  7.69it/s, distance=1.06]  \n",
      "100%|██████████| 199/199 [00:26<00:00,  7.65it/s, distance=0.912]\n",
      "100%|██████████| 199/199 [00:26<00:00,  7.60it/s, distance=0.915] \n",
      "100%|██████████| 199/199 [00:26<00:00,  7.44it/s, distance=0.933]\n",
      "100%|██████████| 199/199 [00:25<00:00,  7.67it/s, distance=0.93] \n",
      "100%|██████████| 199/199 [00:26<00:00,  7.64it/s, distance=0.914]\n",
      "100%|██████████| 199/199 [00:26<00:00,  7.64it/s, distance=0.853]\n",
      "100%|██████████| 199/199 [00:26<00:00,  7.59it/s, distance=0.926]\n",
      "100%|██████████| 199/199 [00:26<00:00,  7.62it/s, distance=0.952] \n",
      "100%|██████████| 199/199 [00:25<00:00,  7.69it/s, distance=0.929] \n",
      "100%|██████████| 199/199 [00:25<00:00,  7.69it/s, distance=0.938]\n",
      "100%|██████████| 199/199 [00:25<00:00,  7.71it/s, distance=0.902]\n",
      "100%|██████████| 199/199 [00:26<00:00,  7.52it/s, distance=0.908]\n",
      "100%|██████████| 199/199 [00:26<00:00,  7.49it/s, distance=0.892]\n",
      "100%|██████████| 199/199 [00:25<00:00,  7.67it/s, distance=0.93] \n",
      "100%|██████████| 199/199 [00:26<00:00,  7.57it/s, distance=0.895]\n",
      "100%|██████████| 199/199 [00:26<00:00,  7.58it/s, distance=0.889]\n",
      "100%|██████████| 199/199 [00:26<00:00,  7.52it/s, distance=0.914]\n",
      "100%|██████████| 199/199 [00:26<00:00,  7.38it/s, distance=0.948]\n",
      "100%|██████████| 199/199 [00:26<00:00,  7.51it/s, distance=0.914]\n",
      "100%|██████████| 199/199 [00:29<00:00,  6.80it/s, distance=0.909]\n",
      "100%|██████████| 199/199 [00:38<00:00,  5.23it/s, distance=0.959]\n",
      "100%|██████████| 199/199 [00:30<00:00,  6.48it/s, distance=0.893]\n",
      "100%|██████████| 199/199 [00:25<00:00,  7.70it/s, distance=0.928]\n",
      "100%|██████████| 199/199 [00:25<00:00,  7.67it/s, distance=0.921]\n",
      "100%|██████████| 199/199 [00:26<00:00,  7.45it/s, distance=0.933]\n",
      "100%|██████████| 199/199 [00:26<00:00,  7.52it/s, distance=0.928] \n",
      "100%|██████████| 199/199 [00:26<00:00,  7.50it/s, distance=0.906]\n",
      "100%|██████████| 199/199 [00:26<00:00,  7.47it/s, distance=0.952]\n",
      "100%|██████████| 199/199 [00:26<00:00,  7.58it/s, distance=0.918]\n",
      "100%|██████████| 199/199 [00:27<00:00,  7.32it/s, distance=0.903]\n",
      "100%|██████████| 199/199 [00:37<00:00,  5.26it/s, distance=0.904]\n",
      "100%|██████████| 199/199 [00:37<00:00,  5.27it/s, distance=0.917]\n",
      "100%|██████████| 199/199 [00:37<00:00,  5.26it/s, distance=0.905]\n",
      "100%|██████████| 199/199 [00:35<00:00,  5.67it/s, distance=0.934]\n",
      "100%|██████████| 199/199 [00:26<00:00,  7.48it/s, distance=0.954]\n",
      "100%|██████████| 199/199 [00:26<00:00,  7.38it/s, distance=0.914]\n",
      " 38%|███▊      | 76/199 [00:10<00:16,  7.26it/s, distance=4.43]  \n"
     ]
    },
    {
     "ename": "KeyboardInterrupt",
     "evalue": "",
     "output_type": "error",
     "traceback": [
      "\u001b[0;31m---------------------------------------------------------------------------\u001b[0m",
      "\u001b[0;31mKeyboardInterrupt\u001b[0m                         Traceback (most recent call last)",
      "Cell \u001b[0;32mIn[20], line 1\u001b[0m\n\u001b[0;32m----> 1\u001b[0m samples_daps \u001b[38;5;241m=\u001b[39m \u001b[43mflow_daps\u001b[49m\u001b[43m(\u001b[49m\u001b[43mfm\u001b[49m\u001b[38;5;241;43m=\u001b[39;49m\u001b[43mExactOptimalTransportConditionalFlowMatcher\u001b[49m\u001b[43m(\u001b[49m\u001b[43msigma\u001b[49m\u001b[38;5;241;43m=\u001b[39;49m\u001b[38;5;241;43m1e-3\u001b[39;49m\u001b[43m)\u001b[49m\u001b[43m,\u001b[49m\u001b[43m \u001b[49m\u001b[43mcfm_model\u001b[49m\u001b[38;5;241;43m=\u001b[39;49m\u001b[43mot_cfm_model\u001b[49m\u001b[43m,\u001b[49m\n\u001b[1;32m      2\u001b[0m \u001b[43m                                \u001b[49m\u001b[43msamples_per_batch\u001b[49m\u001b[38;5;241;43m=\u001b[39;49m\u001b[38;5;241;43m1\u001b[39;49m\u001b[43m,\u001b[49m\u001b[43m \u001b[49m\u001b[43mtotal_samples\u001b[49m\u001b[38;5;241;43m=\u001b[39;49m\u001b[38;5;241;43m1000\u001b[39;49m\u001b[43m,\u001b[49m\n\u001b[1;32m      3\u001b[0m \u001b[43m                                \u001b[49m\u001b[43mdims_of_img\u001b[49m\u001b[38;5;241;43m=\u001b[39;49m\u001b[43m(\u001b[49m\u001b[38;5;241;43m1\u001b[39;49m\u001b[43m,\u001b[49m\u001b[38;5;241;43m256\u001b[39;49m\u001b[43m,\u001b[49m\u001b[38;5;241;43m256\u001b[39;49m\u001b[43m)\u001b[49m\u001b[43m,\u001b[49m\u001b[43m \u001b[49m\u001b[43mnum_of_steps\u001b[49m\u001b[38;5;241;43m=\u001b[39;49m\u001b[38;5;241;43m200\u001b[39;49m\u001b[43m,\u001b[49m\u001b[43m \u001b[49m\u001b[43mgrad_cost_func\u001b[49m\u001b[38;5;241;43m=\u001b[39;49m\u001b[43mgrad_cost_func\u001b[49m\u001b[43m,\u001b[49m\u001b[43m \u001b[49m\u001b[43mmeas_func\u001b[49m\u001b[38;5;241;43m=\u001b[39;49m\u001b[43mmeas_func\u001b[49m\u001b[43m,\u001b[49m\n\u001b[1;32m      4\u001b[0m \u001b[43m                                \u001b[49m\u001b[43mconditioning\u001b[49m\u001b[38;5;241;43m=\u001b[39;49m\u001b[43mcond\u001b[49m\u001b[43m,\u001b[49m\u001b[43m \u001b[49m\u001b[43mdevice\u001b[49m\u001b[38;5;241;43m=\u001b[39;49m\u001b[43mdevice\u001b[49m\u001b[43m,\u001b[49m\n\u001b[1;32m      5\u001b[0m \u001b[43m                                \u001b[49m\u001b[43mbeta\u001b[49m\u001b[38;5;241;43m=\u001b[39;49m\u001b[38;5;241;43m1e-2\u001b[39;49m\u001b[43m,\u001b[49m\u001b[43m \u001b[49m\u001b[43meta\u001b[49m\u001b[38;5;241;43m=\u001b[39;49m\u001b[43mtorch\u001b[49m\u001b[38;5;241;43m.\u001b[39;49m\u001b[43mlinspace\u001b[49m\u001b[43m(\u001b[49m\u001b[38;5;241;43m1e-6\u001b[39;49m\u001b[43m,\u001b[49m\u001b[43m \u001b[49m\u001b[38;5;241;43m1e-8\u001b[39;49m\u001b[43m,\u001b[49m\u001b[43m \u001b[49m\u001b[38;5;241;43m200\u001b[39;49m\u001b[43m)\u001b[49m\u001b[43m,\u001b[49m\u001b[43m \u001b[49m\u001b[43mr\u001b[49m\u001b[38;5;241;43m=\u001b[39;49m\u001b[43mtorch\u001b[49m\u001b[38;5;241;43m.\u001b[39;49m\u001b[43mlinspace\u001b[49m\u001b[43m(\u001b[49m\u001b[38;5;241;43m1e-2\u001b[39;49m\u001b[43m,\u001b[49m\u001b[43m \u001b[49m\u001b[38;5;241;43m1e-2\u001b[39;49m\u001b[43m,\u001b[49m\u001b[43m \u001b[49m\u001b[38;5;241;43m200\u001b[39;49m\u001b[43m)\u001b[49m\u001b[43m,\u001b[49m\u001b[43m \u001b[49m\u001b[43mlangevin_mc_steps\u001b[49m\u001b[38;5;241;43m=\u001b[39;49m\u001b[38;5;241;43m200\u001b[39;49m\u001b[43m,\u001b[49m\n\u001b[1;32m      6\u001b[0m \u001b[43m                                \u001b[49m\u001b[43msample_noise\u001b[49m\u001b[38;5;241;43m=\u001b[39;49m\u001b[43msample_noise\u001b[49m\u001b[43m,\u001b[49m\u001b[43m \u001b[49m\u001b[43muse_heavy_noise\u001b[49m\u001b[38;5;241;43m=\u001b[39;49m\u001b[38;5;28;43;01mFalse\u001b[39;49;00m\u001b[43m,\u001b[49m\u001b[43m \u001b[49m\u001b[43mstart_provided\u001b[49m\u001b[38;5;241;43m=\u001b[39;49m\u001b[38;5;28;43;01mTrue\u001b[39;49;00m\u001b[43m,\u001b[49m\u001b[43m \u001b[49m\u001b[43mstart_point\u001b[49m\u001b[38;5;241;43m=\u001b[39;49m\u001b[43minitial_points\u001b[49m\u001b[43m)\u001b[49m\n",
      "File \u001b[0;32m~/conditional-flow-matching/physics_flow_matching/inference_scripts/cond.py:631\u001b[0m, in \u001b[0;36mflow_daps\u001b[0;34m(fm, cfm_model, samples_per_batch, total_samples, dims_of_img, num_of_steps, meas_func, conditioning, beta, eta, r, langevin_mc_steps, device, sample_noise, use_heavy_noise, start_provided, start_point, **kwargs)\u001b[0m\n\u001b[1;32m    629\u001b[0m \u001b[38;5;28;01mwith\u001b[39;00m torch\u001b[38;5;241m.\u001b[39menable_grad():\n\u001b[1;32m    630\u001b[0m     gaussian_err \u001b[38;5;241m=\u001b[39m ((x0_lang_up \u001b[38;5;241m-\u001b[39m x0_hat)\u001b[38;5;241m*\u001b[39m\u001b[38;5;241m*\u001b[39m\u001b[38;5;241m2\u001b[39m)\u001b[38;5;241m.\u001b[39msum()\u001b[38;5;241m/\u001b[39m(\u001b[38;5;241m2\u001b[39m\u001b[38;5;241m*\u001b[39m(r[i])\u001b[38;5;241m*\u001b[39m\u001b[38;5;241m*\u001b[39m\u001b[38;5;241m2\u001b[39m)\n\u001b[0;32m--> 631\u001b[0m     gauss_grad \u001b[38;5;241m=\u001b[39m \u001b[43mtorch\u001b[49m\u001b[38;5;241;43m.\u001b[39;49m\u001b[43mautograd\u001b[49m\u001b[38;5;241;43m.\u001b[39;49m\u001b[43mgrad\u001b[49m\u001b[43m(\u001b[49m\u001b[43mgaussian_err\u001b[49m\u001b[43m,\u001b[49m\u001b[43m \u001b[49m\u001b[43mx0_lang_up\u001b[49m\u001b[43m)\u001b[49m[\u001b[38;5;241m0\u001b[39m]\n\u001b[1;32m    633\u001b[0m     meas_err \u001b[38;5;241m=\u001b[39m ((meas_func(x0_lang_up, \u001b[38;5;241m*\u001b[39m\u001b[38;5;241m*\u001b[39mkwargs) \u001b[38;5;241m-\u001b[39m conditioning_per_batch)\u001b[38;5;241m*\u001b[39m\u001b[38;5;241m*\u001b[39m\u001b[38;5;241m2\u001b[39m)\u001b[38;5;241m.\u001b[39msum()\u001b[38;5;241m/\u001b[39m(\u001b[38;5;241m2\u001b[39m\u001b[38;5;241m*\u001b[39mbeta\u001b[38;5;241m*\u001b[39m\u001b[38;5;241m*\u001b[39m\u001b[38;5;241m2\u001b[39m)\n\u001b[1;32m    634\u001b[0m     meas_grad \u001b[38;5;241m=\u001b[39m torch\u001b[38;5;241m.\u001b[39mautograd\u001b[38;5;241m.\u001b[39mgrad(meas_err, x0_lang_up)[\u001b[38;5;241m0\u001b[39m]\n",
      "File \u001b[0;32m~/.conda/envs/cfm/lib/python3.10/site-packages/torch/autograd/__init__.py:439\u001b[0m, in \u001b[0;36mgrad\u001b[0;34m(outputs, inputs, grad_outputs, retain_graph, create_graph, only_inputs, allow_unused, is_grads_batched, materialize_grads)\u001b[0m\n\u001b[1;32m    436\u001b[0m     allow_unused \u001b[38;5;241m=\u001b[39m materialize_grads\n\u001b[1;32m    437\u001b[0m \u001b[38;5;28;01mif\u001b[39;00m is_tensor_like(outputs) \u001b[38;5;129;01mor\u001b[39;00m \u001b[38;5;28misinstance\u001b[39m(outputs, graph\u001b[38;5;241m.\u001b[39mGradientEdge):\n\u001b[1;32m    438\u001b[0m     outputs \u001b[38;5;241m=\u001b[39m cast(\n\u001b[0;32m--> 439\u001b[0m         \u001b[43mUnion\u001b[49m\u001b[43m[\u001b[49m\u001b[43mSequence\u001b[49m\u001b[43m[\u001b[49m\u001b[43mtorch\u001b[49m\u001b[38;5;241;43m.\u001b[39;49m\u001b[43mTensor\u001b[49m\u001b[43m]\u001b[49m\u001b[43m,\u001b[49m\u001b[43m \u001b[49m\u001b[43mSequence\u001b[49m\u001b[43m[\u001b[49m\u001b[43mgraph\u001b[49m\u001b[38;5;241;43m.\u001b[39;49m\u001b[43mGradientEdge\u001b[49m\u001b[43m]\u001b[49m\u001b[43m]\u001b[49m, (outputs,)\n\u001b[1;32m    440\u001b[0m     )\n\u001b[1;32m    441\u001b[0m \u001b[38;5;28;01melse\u001b[39;00m:\n\u001b[1;32m    442\u001b[0m     outputs \u001b[38;5;241m=\u001b[39m \u001b[38;5;28mtuple\u001b[39m(outputs)\n",
      "File \u001b[0;32m~/.conda/envs/cfm/lib/python3.10/typing.py:309\u001b[0m, in \u001b[0;36m_tp_cache.<locals>.decorator.<locals>.inner\u001b[0;34m(*args, **kwds)\u001b[0m\n\u001b[1;32m    306\u001b[0m \u001b[38;5;129m@functools\u001b[39m\u001b[38;5;241m.\u001b[39mwraps(func)\n\u001b[1;32m    307\u001b[0m \u001b[38;5;28;01mdef\u001b[39;00m\u001b[38;5;250m \u001b[39m\u001b[38;5;21minner\u001b[39m(\u001b[38;5;241m*\u001b[39margs, \u001b[38;5;241m*\u001b[39m\u001b[38;5;241m*\u001b[39mkwds):\n\u001b[1;32m    308\u001b[0m     \u001b[38;5;28;01mtry\u001b[39;00m:\n\u001b[0;32m--> 309\u001b[0m         \u001b[38;5;28;01mreturn\u001b[39;00m \u001b[43mcached\u001b[49m\u001b[43m(\u001b[49m\u001b[38;5;241;43m*\u001b[39;49m\u001b[43margs\u001b[49m\u001b[43m,\u001b[49m\u001b[43m \u001b[49m\u001b[38;5;241;43m*\u001b[39;49m\u001b[38;5;241;43m*\u001b[39;49m\u001b[43mkwds\u001b[49m\u001b[43m)\u001b[49m\n\u001b[1;32m    310\u001b[0m     \u001b[38;5;28;01mexcept\u001b[39;00m \u001b[38;5;167;01mTypeError\u001b[39;00m:\n\u001b[1;32m    311\u001b[0m         \u001b[38;5;28;01mpass\u001b[39;00m  \u001b[38;5;66;03m# All real errors (not unhashable args) are raised below.\u001b[39;00m\n",
      "\u001b[0;31mKeyboardInterrupt\u001b[0m: "
     ]
    }
   ],
   "source": [
    "samples_daps = flow_daps(fm=ExactOptimalTransportConditionalFlowMatcher(sigma=1e-3), cfm_model=ot_cfm_model,\n",
    "                                samples_per_batch=1, total_samples=1000,\n",
    "                                dims_of_img=(1,256,256), num_of_steps=200, grad_cost_func=grad_cost_func, meas_func=meas_func,\n",
    "                                conditioning=cond, device=device,\n",
    "                                beta=1e-2, eta=torch.linspace(1e-6, 1e-8, 200), r=torch.linspace(1e-2, 1e-2, 200), langevin_mc_steps=200,\n",
    "                                sample_noise=sample_noise, use_heavy_noise=False, start_provided=True, start_point=initial_points)"
   ]
  },
  {
   "cell_type": "code",
   "execution_count": null,
   "metadata": {},
   "outputs": [],
   "source": [
    "for i in range(2):\n",
    "    fig, axes = plt.subplots(1, 3, figsize=(10, 5))\n",
    "    axes[0].imshow(X[1, 0], vmax=3, vmin=-3)\n",
    "    axes[0].set_title('GT')\n",
    "    a = axes[1].imshow(samples_cond_grad[i, 0], vmax=3, vmin=-3)\n",
    "    axes[1].set_title('Sampled Output')\n",
    "    fig.colorbar(ax=axes[1], mappable=a, fraction = 0.05)\n",
    "    b = axes[2].imshow(np.abs(X[1, 0] - samples_cond_grad[i, 0]), vmax=0.1, vmin=-0.1)\n",
    "    axes[2].set_title('Absolute Difference')\n",
    "    fig.colorbar(ax=axes[2], mappable=b, fraction = 0.05)\n",
    "    plt.tight_layout()\n",
    "    plt.show()"
   ]
  },
  {
   "cell_type": "code",
   "execution_count": null,
   "metadata": {},
   "outputs": [],
   "source": [
    "fig, axes = plt.subplots(1, 2, figsize=(50, 5))\n",
    "for i in range(2):\n",
    "    axes[i].imshow(samples_cond_grad[i, 0])\n",
    "    axes[i].set_title(f'Sample {i+1}')\n",
    "    axes[i].axis('off')"
   ]
  },
  {
   "cell_type": "code",
   "execution_count": null,
   "metadata": {},
   "outputs": [],
   "source": [
    "corr_grad = []\n",
    "for s in (samples_cond_grad):\n",
    "    corr_grad.append(two_point_corr(s[0], np.arange(256), 0, 1)[-1])"
   ]
  },
  {
   "cell_type": "code",
   "execution_count": null,
   "metadata": {},
   "outputs": [],
   "source": [
    "corr_grad = np.stack(corr_grad, axis=0)"
   ]
  },
  {
   "cell_type": "code",
   "execution_count": null,
   "metadata": {},
   "outputs": [],
   "source": [
    "# for i in range(20):\n",
    "#     plt.plot(np.arange(128), corr_mcmc[i], label='MCMC')\n",
    "plt.plot(np.arange(128), corr_grad.mean(axis=0), label='MCMC Mean', color='red', linewidth=3)\n",
    "plt.plot(np.arange(128), two_point_corr(X[1,0], np.arange(256), 0, 1)[-1], label='GT', linewidth=3, color='black')\n",
    "plt.show()"
   ]
  },
  {
   "cell_type": "code",
   "execution_count": null,
   "metadata": {},
   "outputs": [],
   "source": [
    "calculate_kuramoto_sivashinsky_residual((samples_cond_grad * std + m)[:, 0], 0.2,0.245)"
   ]
  },
  {
   "cell_type": "code",
   "execution_count": null,
   "metadata": {},
   "outputs": [],
   "source": [
    "np.square((meas[1:2].cpu().numpy() - samples_cond_grad[:1,..., :128, :])).mean()"
   ]
  },
  {
   "cell_type": "code",
   "execution_count": null,
   "metadata": {},
   "outputs": [],
   "source": [
    "for i in range(2):\n",
    "    fig, axes = plt.subplots(1, 3, figsize=(10, 5))\n",
    "    axes[0].imshow(X[1, 0], vmax=3, vmin=-3)\n",
    "    axes[0].set_title('GT')\n",
    "    a = axes[1].imshow(samples_daps[i, 0], vmax=3, vmin=-3)\n",
    "    axes[1].set_title('Sampled Output')\n",
    "    fig.colorbar(ax=axes[1], mappable=a, fraction = 0.05)\n",
    "    b = axes[2].imshow(np.abs(X[1, 0] - samples_daps[i, 0]), vmax=0.1, vmin=-0.1)\n",
    "    axes[2].set_title('Absolute Difference')\n",
    "    fig.colorbar(ax=axes[2], mappable=b, fraction = 0.05)\n",
    "    plt.tight_layout()\n",
    "    plt.show()"
   ]
  },
  {
   "cell_type": "code",
   "execution_count": null,
   "metadata": {},
   "outputs": [],
   "source": [
    "fig, axes = plt.subplots(1, 2, figsize=(50, 5))\n",
    "for i in range(2):\n",
    "    axes[i].imshow(samples_daps[i, 0])\n",
    "    axes[i].set_title(f'Sample {i+1}')\n",
    "    axes[i].axis('off')\n",
    "    \n",
    "corr_grad = []\n",
    "for s in (samples_daps):\n",
    "    corr_grad.append(two_point_corr(s[0], np.arange(256), 0, 1)[-1])\n",
    "    \n",
    "\n"
   ]
  },
  {
   "cell_type": "code",
   "execution_count": null,
   "metadata": {},
   "outputs": [],
   "source": [
    "corr_grad = np.stack(corr_grad, axis=0)\n",
    "# for i in range(20):\n",
    "#     plt.plot(np.arange(128), corr_mcmc[i], label='MCMC')\n",
    "plt.plot(np.arange(128), corr_grad.mean(axis=0), label='MCMC Mean', color='red', linewidth=3)\n",
    "plt.plot(np.arange(128), two_point_corr(X[1,0], np.arange(256), 0, 1)[-1], label='GT', linewidth=3, color='black')\n",
    "plt.show()"
   ]
  },
  {
   "cell_type": "code",
   "execution_count": null,
   "metadata": {},
   "outputs": [],
   "source": [
    "calculate_kuramoto_sivashinsky_residual((samples_daps * std + m)[:, 0], 0.2,0.245)"
   ]
  },
  {
   "cell_type": "code",
   "execution_count": null,
   "metadata": {},
   "outputs": [],
   "source": [
    "np.square((meas[1:2].cpu().numpy() - samples_daps[:1,..., :128, :])).mean()"
   ]
  },
  {
   "cell_type": "code",
   "execution_count": null,
   "metadata": {},
   "outputs": [],
   "source": []
  }
 ],
 "metadata": {
  "kernelspec": {
   "display_name": "cfm",
   "language": "python",
   "name": "python3"
  },
  "language_info": {
   "codemirror_mode": {
    "name": "ipython",
    "version": 3
   },
   "file_extension": ".py",
   "mimetype": "text/x-python",
   "name": "python",
   "nbconvert_exporter": "python",
   "pygments_lexer": "ipython3",
   "version": "3.10.18"
  }
 },
 "nbformat": 4,
 "nbformat_minor": 2
}
