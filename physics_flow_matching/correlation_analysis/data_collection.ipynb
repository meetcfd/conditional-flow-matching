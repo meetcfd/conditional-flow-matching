{
 "cells": [
  {
   "cell_type": "code",
   "execution_count": 1,
   "metadata": {},
   "outputs": [],
   "source": [
    "import jax\n",
    "jax.config.update('jax_platform_name', 'cpu')"
   ]
  },
  {
   "cell_type": "code",
   "execution_count": 2,
   "metadata": {},
   "outputs": [],
   "source": [
    "import jax.numpy as np\n",
    "import matplotlib.pyplot as plt\n",
    "import xarray"
   ]
  },
  {
   "cell_type": "code",
   "execution_count": 3,
   "metadata": {},
   "outputs": [],
   "source": [
    "fold = '/home/xiantao/storage/data/APGdata-180/APGchannel-0-long/'"
   ]
  },
  {
   "cell_type": "code",
   "execution_count": 4,
   "metadata": {},
   "outputs": [
    {
     "name": "stderr",
     "output_type": "stream",
     "text": [
      "An NVIDIA GPU may be present on this machine, but a CUDA-enabled jaxlib is not installed. Falling back to cpu.\n"
     ]
    }
   ],
   "source": [
    "num1 = np.arange(41,220) # 41,220,1, 221-259"
   ]
  },
  {
   "cell_type": "code",
   "execution_count": 27,
   "metadata": {},
   "outputs": [
    {
     "name": "stdout",
     "output_type": "stream",
     "text": [
      "41\n",
      "42\n",
      "43\n",
      "44\n",
      "45\n",
      "46\n",
      "47\n",
      "48\n",
      "49\n",
      "50\n",
      "51\n",
      "52\n",
      "53\n",
      "54\n",
      "55\n",
      "56\n",
      "57\n",
      "58\n",
      "59\n",
      "60\n",
      "61\n",
      "62\n",
      "63\n",
      "64\n",
      "65\n",
      "66\n",
      "67\n",
      "68\n",
      "69\n",
      "70\n",
      "71\n",
      "72\n",
      "73\n",
      "74\n",
      "75\n",
      "76\n",
      "77\n",
      "78\n",
      "79\n",
      "80\n",
      "81\n",
      "82\n",
      "83\n",
      "84\n",
      "85\n",
      "86\n",
      "87\n",
      "88\n",
      "89\n",
      "90\n",
      "91\n",
      "92\n",
      "93\n",
      "94\n",
      "95\n",
      "96\n",
      "97\n",
      "98\n",
      "99\n",
      "100\n",
      "101\n",
      "102\n",
      "103\n",
      "104\n",
      "105\n",
      "106\n",
      "107\n",
      "108\n",
      "109\n",
      "110\n",
      "111\n",
      "112\n",
      "113\n",
      "114\n",
      "115\n",
      "116\n",
      "117\n",
      "118\n",
      "119\n",
      "120\n",
      "121\n",
      "122\n",
      "123\n",
      "124\n",
      "125\n",
      "126\n",
      "127\n",
      "128\n",
      "129\n",
      "130\n",
      "131\n",
      "132\n",
      "133\n",
      "134\n",
      "135\n",
      "136\n",
      "137\n",
      "138\n",
      "139\n",
      "140\n",
      "141\n",
      "142\n",
      "143\n",
      "144\n",
      "145\n",
      "146\n",
      "147\n",
      "148\n",
      "149\n",
      "150\n",
      "151\n",
      "152\n",
      "153\n",
      "154\n",
      "155\n",
      "156\n",
      "157\n",
      "158\n",
      "159\n",
      "160\n",
      "161\n",
      "162\n",
      "163\n",
      "164\n",
      "165\n",
      "166\n",
      "167\n",
      "168\n",
      "169\n",
      "170\n",
      "171\n",
      "172\n",
      "173\n",
      "174\n",
      "175\n",
      "176\n",
      "177\n",
      "178\n",
      "179\n",
      "180\n",
      "181\n",
      "182\n",
      "183\n",
      "184\n",
      "185\n",
      "186\n",
      "187\n",
      "188\n",
      "189\n",
      "190\n",
      "191\n",
      "192\n",
      "193\n",
      "194\n",
      "195\n",
      "196\n",
      "197\n",
      "198\n",
      "199\n",
      "200\n",
      "201\n",
      "202\n",
      "203\n",
      "204\n",
      "205\n",
      "206\n",
      "207\n",
      "208\n",
      "209\n",
      "210\n",
      "211\n",
      "212\n",
      "213\n",
      "214\n",
      "215\n",
      "216\n",
      "217\n",
      "218\n",
      "219\n"
     ]
    }
   ],
   "source": [
    "x=list(range(100,220,20))\n",
    "\n",
    "u = []\n",
    "v = []\n",
    "w = []\n",
    "P = []\n",
    "dudy = []\n",
    "dwdy = []\n",
    "for i in num1:\n",
    "    print(i)\n",
    "    file = fold + f'channelflow{i}.nc'\n",
    "    data_u = xarray.open_dataset(file)['u'].isel(x=x) # .isel(x=index) for extract y-z plane; .isel(y=index) for extract x-z plane, .isel(z=index) for extract x-y plane, .isel(t=index) for extract different time\n",
    "    data_v = xarray.open_dataset(file)['v'].isel(x=x)\n",
    "    data_w = xarray.open_dataset(file)['w'].isel(x=x)\n",
    "    data_P = xarray.open_dataset(file)['P'].isel(x=x)\n",
    "    u.append(data_u.data)\n",
    "    v.append(data_v.data)\n",
    "    w.append(data_w.data)\n",
    "    P.append(data_P.data)"
   ]
  },
  {
   "cell_type": "code",
   "execution_count": 29,
   "metadata": {},
   "outputs": [],
   "source": [
    "u_ = np.concat(u, axis=0)"
   ]
  },
  {
   "cell_type": "code",
   "execution_count": 30,
   "metadata": {},
   "outputs": [
    {
     "data": {
      "text/plain": [
       "(17900, 6, 400, 200)"
      ]
     },
     "execution_count": 30,
     "metadata": {},
     "output_type": "execute_result"
    }
   ],
   "source": [
    "u_.shape"
   ]
  },
  {
   "cell_type": "code",
   "execution_count": 11,
   "metadata": {},
   "outputs": [],
   "source": [
    "# for i in range(1):\n",
    "#     plt.plot(u_.mean(axis=(0,-1))[i])"
   ]
  },
  {
   "cell_type": "code",
   "execution_count": 10,
   "metadata": {},
   "outputs": [],
   "source": [
    "# plt.imshow((u_)[0, 0])\n",
    "# plt.colorbar()"
   ]
  },
  {
   "cell_type": "code",
   "execution_count": 31,
   "metadata": {},
   "outputs": [],
   "source": [
    "import numpy as npy"
   ]
  },
  {
   "cell_type": "code",
   "execution_count": 32,
   "metadata": {},
   "outputs": [],
   "source": [
    "u_ref = npy.loadtxt('/home/xiantao/storage/data/APGdata-180/APGchannel-0-long/postprocess/u_fluct_180.txt')"
   ]
  },
  {
   "cell_type": "code",
   "execution_count": 33,
   "metadata": {},
   "outputs": [],
   "source": [
    "a = (u_ - u_.mean(axis=(0, 1, -1), keepdims=True))"
   ]
  },
  {
   "cell_type": "code",
   "execution_count": 34,
   "metadata": {},
   "outputs": [
    {
     "data": {
      "text/plain": [
       "[<matplotlib.lines.Line2D at 0x7f60d07f2f90>]"
      ]
     },
     "execution_count": 34,
     "metadata": {},
     "output_type": "execute_result"
    },
    {
     "data": {
      "image/png": "[encoded data removed]",
      "text/plain": [
       "<Figure size 640x480 with 1 Axes>"
      ]
     },
     "metadata": {},
     "output_type": "display_data"
    }
   ],
   "source": [
    "plt.plot((a.std(axis=(0,1,-1))/0.045)[:200])\n",
    "plt.plot(u_ref[:,0]*200/180, u_ref[:,1], '--',label='ref')"
   ]
  },
  {
   "cell_type": "code",
   "execution_count": 13,
   "metadata": {},
   "outputs": [],
   "source": [
    "# (u_ - u_.mean(axis=(0, 2, 3), keepdims=True)).mean(axis=(0,2,3))"
   ]
  },
  {
   "cell_type": "code",
   "execution_count": 35,
   "metadata": {},
   "outputs": [],
   "source": [
    "np.save('u_xy_jax_multi_channel.npy', a)"
   ]
  },
  {
   "cell_type": "code",
   "execution_count": null,
   "metadata": {},
   "outputs": [],
   "source": [
    "import numpy as np\n",
    "import matplotlib.pyplot as plt\n",
    "import xarray\n",
    "import jax.numpy as jnp\n",
    "\n",
    "fold = '/home/xiantao/storage/data/APGdata-180/APGchannel-0-long/'\n",
    "\n",
    "num1 = np.arange(41,260,1)\n",
    "\n",
    "y_bot = np.ceil(np.array([20])*200/180).astype(int)\n",
    "\n",
    "y_top = -y_bot - 1\n",
    "\n",
    "y = np.concatenate([y_bot,np.flip(y_top)])\n",
    "\n",
    "u = []\n",
    "v = []\n",
    "w = []\n",
    "for i in num1:\n",
    "    print(i)\n",
    "    file = fold + f'channelflow{i}.nc'\n",
    "    data = xarray.open_dataset(file).isel(y=y)\n",
    "    data_u = data['u']\n",
    "    data_v = data['v']\n",
    "    data_w = data['w']\n",
    "    u.append(data_u.data)\n",
    "    v.append(data_v.data)\n",
    "    w.append(data_w.data)\n",
    "\n",
    "u_all = np.concatenate(u,axis=0)\n",
    "v_all = np.concatenate(v,axis=0)\n",
    "w_all = np.concatenate(w,axis=0)\n",
    "\n",
    "\n",
    "u_all_fluct = u_all - u_all.mean(axis=(0,1,-1),keepdims=True)\n",
    "v_all_fluct = v_all - v_all.mean(axis=(0,1,-1),keepdims=True)\n",
    "w_all_fluct = w_all - w_all.mean(axis=(0,1,-1),keepdims=True)\n",
    "\n",
    "u_all_fluct_combine = jnp.concatenate([u_all_fluct[...,0,:], u_all_fluct[...,-1,:]],axis=0)\n",
    "v_all_fluct_combine = jnp.concatenate([v_all_fluct[...,0,:], v_all_fluct[...,-1,:]],axis=0)\n",
    "w_all_fluct_combine = jnp.concatenate([w_all_fluct[...,0,:], w_all_fluct[...,-1,:]],axis=0)\n",
    "\n",
    "\n",
    "np.save( '/home/xiantao/case/wall_pressure/bigchannel/data/channel_180_u_y20-120_221-259.npy', u_all_fluct_combine)\n",
    "np.save( '/home/xiantao/case/wall_pressure/bigchannel/data/channel_180_v_y20-120_221-259.npy', v_all_fluct_combine)\n",
    "np.save( '/home/xiantao/case/wall_pressure/bigchannel/data/channel_180_w_y20-120_221-259.npy', w_all_fluct_combine)"
   ]
  }
 ],
 "metadata": {
  "kernelspec": {
   "display_name": "diff-FSI-meet",
   "language": "python",
   "name": "python3"
  },
  "language_info": {
   "codemirror_mode": {
    "name": "ipython",
    "version": 3
   },
   "file_extension": ".py",
   "mimetype": "text/x-python",
   "name": "python",
   "nbconvert_exporter": "python",
   "pygments_lexer": "ipython3",
   "version": "3.11.2"
  }
 },
 "nbformat": 4,
 "nbformat_minor": 2
}
