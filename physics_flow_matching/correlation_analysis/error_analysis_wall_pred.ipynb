{
 "cells": [
  {
   "cell_type": "code",
   "execution_count": 4,
   "metadata": {},
   "outputs": [],
   "source": [
    "import numpy as np\n",
    "import matplotlib.pyplot as plt"
   ]
  },
  {
   "cell_type": "code",
   "execution_count": 3,
   "metadata": {},
   "outputs": [],
   "source": [
    "wm_data = []\n",
    "for j in [\"/home/xiantao/case/wall_pressure/bigchannel/data/to_meet/channel_180_wall_pressure_all_out.npy\",\n",
    "           \"/home/xiantao/case/wall_pressure/bigchannel/data/to_meet/channel_180_wall_dudy_all_out.npy\",\n",
    "          \"/home/xiantao/case/wall_pressure/bigchannel/data/to_meet/channel_180_wall_dwdy_all_out.npy\"]:\n",
    "    wm_data.append(np.load(j))\n",
    "wm_data = np.concatenate(wm_data, axis=1)"
   ]
  },
  {
   "cell_type": "code",
   "execution_count": 3,
   "metadata": {},
   "outputs": [],
   "source": [
    "gen = np.load(\"/home/meet/FlowMatchingTests/conditional-flow-matching/physics_flow_matching/multi_pretrain/exps/wm_vf/exp_7/samples_499epch.npy\")"
   ]
  },
  {
   "cell_type": "code",
   "execution_count": null,
   "metadata": {},
   "outputs": [],
   "source": [
    "test = wm_data[36000:]"
   ]
  },
  {
   "cell_type": "code",
   "execution_count": 38,
   "metadata": {},
   "outputs": [],
   "source": [
    "def pretty_print(val):\n",
    "    print(fr\"u : {val[1]:.4f}\")\n",
    "    print(fr\"w : {val[2]:.4f}\" )\n",
    "    print(fr\"p : {val[0]:.4f}\" )"
   ]
  },
  {
   "cell_type": "code",
   "execution_count": 61,
   "metadata": {},
   "outputs": [],
   "source": [
    "def rms(val):\n",
    "    return np.sqrt(np.mean(val**2, axis=(0,2,3)))"
   ]
  },
  {
   "cell_type": "markdown",
   "metadata": {},
   "source": [
    "$$L(u^i_{pred}, u^i_{gt}) = \\frac{1}{N_T N_x N_z} \\sum_{N_T} \\sum_{N_x} \\sum_{N_z} | u^i_{pred} - u^i_{gt}|^2 $$"
   ]
  },
  {
   "cell_type": "code",
   "execution_count": 11,
   "metadata": {},
   "outputs": [],
   "source": [
    "def mse(a, b):\n",
    "    return np.mean((a-b)**2, axis=(0,2,3))"
   ]
  },
  {
   "cell_type": "code",
   "execution_count": 62,
   "metadata": {},
   "outputs": [],
   "source": [
    "val = mse(gen, test)/rms(test)**2  # normalized by the variance of the test data"
   ]
  },
  {
   "cell_type": "code",
   "execution_count": 63,
   "metadata": {},
   "outputs": [
    {
     "name": "stdout",
     "output_type": "stream",
     "text": [
      "u : 0.0109\n",
      "w : 0.0751\n",
      "p : 0.1139\n"
     ]
    }
   ],
   "source": [
    "pretty_print(val)"
   ]
  },
  {
   "cell_type": "markdown",
   "metadata": {},
   "source": [
    "$$E_{RMS}(u^i) = \\frac{|u^i_{RMS,\\ pred} - u^i_{RMS,\\ gt}|}{u^i_{RMS,\\ gt}}$$"
   ]
  },
  {
   "cell_type": "code",
   "execution_count": 64,
   "metadata": {},
   "outputs": [],
   "source": [
    "def err_rms(a, b):\n",
    "    a_rms = rms(a)#a.std(axis=(0,2,3))\n",
    "    b_rms = rms(b)#b.std(axis=(0,2,3))\n",
    "    return np.abs(a_rms - b_rms) / b_rms"
   ]
  },
  {
   "cell_type": "code",
   "execution_count": 65,
   "metadata": {},
   "outputs": [],
   "source": [
    "val = err_rms(gen, test)"
   ]
  },
  {
   "cell_type": "code",
   "execution_count": 66,
   "metadata": {},
   "outputs": [
    {
     "name": "stdout",
     "output_type": "stream",
     "text": [
      "u : 0.4800\n",
      "w : 3.6028\n",
      "p : 14.5738\n"
     ]
    }
   ],
   "source": [
    "pretty_print(val*100)"
   ]
  },
  {
   "cell_type": "markdown",
   "metadata": {},
   "source": [
    "$$R(u^i) = \\frac{{\\langle u_{pred}\\ u_{gt}\\rangle}_{x,\\ z,\\ t}}{u_{RMS,\\ pred}\\ u_{RMS,\\ gt}}$$"
   ]
  },
  {
   "cell_type": "code",
   "execution_count": 67,
   "metadata": {},
   "outputs": [],
   "source": [
    "def err_corr(a, b):\n",
    "    num = np.mean(a * b, axis=(0,2,3))\n",
    "    den = rms(a) * rms(b)\n",
    "    return num/den"
   ]
  },
  {
   "cell_type": "code",
   "execution_count": 68,
   "metadata": {},
   "outputs": [],
   "source": [
    "val = err_corr(gen, test)"
   ]
  },
  {
   "cell_type": "code",
   "execution_count": 69,
   "metadata": {},
   "outputs": [
    {
     "name": "stdout",
     "output_type": "stream",
     "text": [
      "u : 0.9946\n",
      "w : 0.9617\n",
      "p : 0.9458\n"
     ]
    }
   ],
   "source": [
    "pretty_print(val)"
   ]
  }
 ],
 "metadata": {
  "kernelspec": {
   "display_name": "torchcfm",
   "language": "python",
   "name": "python3"
  },
  "language_info": {
   "codemirror_mode": {
    "name": "ipython",
    "version": 3
   },
   "file_extension": ".py",
   "mimetype": "text/x-python",
   "name": "python",
   "nbconvert_exporter": "python",
   "pygments_lexer": "ipython3",
   "version": "3.10.13"
  }
 },
 "nbformat": 4,
 "nbformat_minor": 2
}
