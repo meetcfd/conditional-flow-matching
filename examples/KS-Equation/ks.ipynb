{
 "cells": [
  {
   "cell_type": "code",
   "execution_count": null,
   "metadata": {},
   "outputs": [],
   "source": [
    "%env CUDA_VISIBLE_DEVICES = 3"
   ]
  },
  {
   "cell_type": "code",
   "execution_count": null,
   "metadata": {},
   "outputs": [],
   "source": [
    "%load_ext autoreload\n",
    "%autoreload 2\n",
    "import os\n",
    "\n",
    "import matplotlib.pyplot as plt\n",
    "import numpy as np\n",
    "import scanpy as sc\n",
    "import torch\n",
    "import torchsde\n",
    "\n",
    "from torchdyn.core import NeuralODE\n",
    "from tqdm import tqdm\n",
    "from torchcfm.conditional_flow_matching import *\n",
    "from torchcfm.models import MLP\n",
    "from torchcfm.utils import plot_trajectories, torch_wrapper\n",
    "from einops import rearrange\n",
    "from read_ks_data import get_batch\n",
    "\n",
    "savedir = \"models/KS-Equation\"\n",
    "os.makedirs(savedir, exist_ok=True)"
   ]
  },
  {
   "cell_type": "code",
   "execution_count": null,
   "metadata": {},
   "outputs": [],
   "source": [
    "data = np.load(\"/home/meet/FlowMatchingTests/conditional-flow-matching/examples/data/ks_data.npy\")\n",
    "data = rearrange(data, \"(tr num) t s -> tr (num t) s\", num=4)\n",
    "X = (data - data.mean())/data.std()"
   ]
  },
  {
   "cell_type": "code",
   "execution_count": null,
   "metadata": {},
   "outputs": [],
   "source": [
    "use_cuda = torch.cuda.is_available()\n",
    "device = torch.device(\"cuda\" if use_cuda else \"cpu\")\n",
    "sigma = 0.1\n",
    "dim = 32\n",
    "torch.manual_seed(42)\n",
    "ot_cfm_model = MLP(dim=dim, time_varying=True, w=64).to(device)\n",
    "ot_cfm_optimizer = torch.optim.Adam(ot_cfm_model.parameters(), 1e-4)\n",
    "FM = ConditionalFlowMatcher(sigma=sigma)"
   ]
  },
  {
   "cell_type": "code",
   "execution_count": null,
   "metadata": {},
   "outputs": [],
   "source": [
    "for i in tqdm(range(100000)):\n",
    "    ot_cfm_optimizer.zero_grad()\n",
    "    t, xt, ut = get_batch(FM, X[:900], 16, 16, X[0].shape[0], device)\n",
    "    vt = ot_cfm_model(torch.cat([xt, t[:, None]], dim=-1))\n",
    "    loss = torch.mean((vt - ut) ** 2)\n",
    "    loss.backward()\n",
    "    ot_cfm_optimizer.step()\n",
    "    if i%10000 == 0:\n",
    "        print(loss.item())"
   ]
  },
  {
   "cell_type": "code",
   "execution_count": null,
   "metadata": {},
   "outputs": [],
   "source": [
    "node = NeuralODE(torch_wrapper(ot_cfm_model), solver=\"dopri5\", sensitivity=\"adjoint\")\n",
    "with torch.no_grad():\n",
    "    out_lst = [X[983:984,0]]\n",
    "    init = torch.from_numpy(X[983:984,0]).float().to(device)\n",
    "    for i in range(32):\n",
    "        inp = init if i == 0 else torch.from_numpy(out).float().to(device)\n",
    "        traj = node.trajectory(\n",
    "            inp,\n",
    "            t_span=torch.linspace(0, 1, 2),\n",
    "        ).detach().cpu().numpy()\n",
    "        out = traj[-1]\n",
    "        out_lst.append(out)"
   ]
  },
  {
   "cell_type": "code",
   "execution_count": null,
   "metadata": {},
   "outputs": [],
   "source": [
    "fig, axes = plt.subplots(nrows=1, ncols=3)\n",
    "i = axes[0].imshow(np.concatenate(out_lst))\n",
    "fig.colorbar(i, ax=axes[0])\n",
    "i = axes[1].imshow(X[983,0:33])\n",
    "fig.colorbar(i, ax=axes[1])\n",
    "i = axes[2].imshow(np.abs(X[983,0:33] - np.concatenate(out_lst)))\n",
    "fig.colorbar(i, ax=axes[2])"
   ]
  },
  {
   "cell_type": "code",
   "execution_count": null,
   "metadata": {},
   "outputs": [],
   "source": []
  }
 ],
 "metadata": {
  "kernelspec": {
   "display_name": "torchcfm",
   "language": "python",
   "name": "python3"
  },
  "language_info": {
   "codemirror_mode": {
    "name": "ipython",
    "version": 3
   },
   "file_extension": ".py",
   "mimetype": "text/x-python",
   "name": "python",
   "nbconvert_exporter": "python",
   "pygments_lexer": "ipython3",
   "version": "3.10.14"
  }
 },
 "nbformat": 4,
 "nbformat_minor": 2
}
